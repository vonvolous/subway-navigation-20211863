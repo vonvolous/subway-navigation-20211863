{
  "nbformat": 4,
  "nbformat_minor": 0,
  "metadata": {
    "colab": {
      "name": "Project Version 3.0.ipynb",
      "provenance": [],
      "collapsed_sections": [
        "NUD-hySm_uPc"
      ],
      "include_colab_link": true
    },
    "kernelspec": {
      "name": "python3",
      "display_name": "Python 3"
    }
  },
  "cells": [
    {
      "cell_type": "markdown",
      "metadata": {
        "id": "view-in-github",
        "colab_type": "text"
      },
      "source": [
        "<a href=\"https://colab.research.google.com/github/vonvolous/subway-navigation-20211863/blob/main/Project_Version_3_0.ipynb\" target=\"_parent\"><img src=\"https://colab.research.google.com/assets/colab-badge.svg\" alt=\"Open In Colab\"/></a>"
      ]
    },
    {
      "cell_type": "markdown",
      "metadata": {
        "id": "NUD-hySm_uPc"
      },
      "source": [
        "# **Open Source SW and Python Programming Project: Implementation of Subway Navigation**\n",
        "\n",
        "In this project, you will implement a navigation system for Seoul subway stations, especially **step by step**\n",
        "\n",
        "\n"
      ]
    },
    {
      "cell_type": "markdown",
      "metadata": {
        "id": "uUsnepoeAhVl"
      },
      "source": [
        "# 0. Initialization\n",
        "\n",
        "Read subway station information by reading the file **simplified_subway_info.xlsx**\n",
        "*  The excel file contains subway station information of Seoul subway line 1 ~ 4\n",
        "*  When you execute this sourcecode, you MUST upload these files in your Colab runtime environment\n",
        "*   **MUST NOT** change this Initialization code cell"
      ]
    },
    {
      "cell_type": "code",
      "metadata": {
        "id": "qnbOlA6o_mIl"
      },
      "source": [
        "import xlrd\n",
        "\n",
        "# Read data file\n",
        "data = xlrd.open_workbook(\"simplified_subway_info.xlsx\")\n",
        "data = data.sheet_by_name('Sheet1')\n",
        "\n",
        "# Store the loaded book object as a string list in subwayStation variable\n",
        "subwayStation = []\n",
        "for line in range(4) :\n",
        "    cur = [x for x in data.col_values(line) if x]    \n",
        "    subwayStation.append(cur[1:])"
      ],
      "execution_count": 35,
      "outputs": []
    },
    {
      "cell_type": "markdown",
      "metadata": {
        "id": "DBXU61Tn_vKS"
      },
      "source": [
        "# 1. Your implementation\n",
        "Let's start the implementation of a subway naviation system by using the loaded subway station information :)\n",
        "\n",
        "*   You can access the subway station information by referring to **subwayStation** variable (list type)"
      ]
    },
    {
      "cell_type": "code",
      "metadata": {
        "id": "7h-scy6AI8Re"
      },
      "source": [
        "class SubwayLine:\n",
        "    def __init__(self,stations):\n",
        "        self.stations=stations\n",
        "\n",
        "    def __str__(self):\n",
        "        return str(self.stations)\n",
        "\n",
        "    def __and__(self,other):\n",
        "        return tuple(set(self.stations).intersection(set(other.stations)))\n",
        "\n",
        "    def __contains__(self,station):\n",
        "        if station in self.stations:\n",
        "            return True\n",
        "        else:\n",
        "            return False\n",
        "    \n",
        "    def getPath(self,dpt,dst):\n",
        "        if (dpt and dst) in self.stations:\n",
        "            line=self.stations\n",
        "            dpt_idx=line.index(dpt)\n",
        "            dst_idx=line.index(dst)\n",
        "            path=list(line[dpt_idx:dst_idx+1])\n",
        "            if line.index(dpt) > line.index(dst):\n",
        "                path=list(line[dst_idx:dpt_idx+1])\n",
        "                path.reverse()\n",
        "\n",
        "            return path\n",
        "  "
      ],
      "execution_count": 36,
      "outputs": []
    },
    {
      "cell_type": "code",
      "metadata": {
        "id": "GwInitaCZkJx"
      },
      "source": [
        "keys=['Line1','Line2','Line3','Line4']\n",
        "values=subwayStation\n",
        "subwayStation={}\n",
        "for line,stations in zip(keys,values):\n",
        "    subwayStation[line]=SubwayLine(stations)"
      ],
      "execution_count": 37,
      "outputs": []
    },
    {
      "cell_type": "code",
      "metadata": {
        "colab": {
          "base_uri": "https://localhost:8080/"
        },
        "id": "2JT-efUKbt78",
        "outputId": "02b9143b-1864-4067-c435-3a5792fa92c8"
      },
      "source": [
        "print(subwayStation['Line1'])\n",
        "print(subwayStation['Line1'] & subwayStation['Line2'])\n",
        "print('동대문' in subwayStation['Line1'])\n",
        "print(subwayStation['Line1'].getPath('서울역','신도림'))\n",
        "print(subwayStation['Line1'].getPath('서울역','신촌'))"
      ],
      "execution_count": 38,
      "outputs": [
        {
          "output_type": "stream",
          "text": [
            "['소요산', '동두천', '보산', '동두천중앙', '지행', '덕정', '덕계', '양주', '녹양', '가능', '의정부', '회룡', '망월사', '도봉산', '도봉', '방학', '창동', '녹천', '월계', '광운대', '석계', '신이문', '외대앞', '회기', '청량리', '제기동', '신설동', '동묘앞', '동대문', '종로5가', '종로3가', '종각', '시청', '서울역', '남영', '용산', '노량진', '대방', '신길', '영등포', '신도림', '구로', '구일', '개봉', '오류동', '온수', '역곡', '소사', '부천', '중동', '송내', '부개', '부평', '백운', '동암', '간석', '주안', '도화', '제물포', '도원', '동인천', '인천']\n",
            "('신도림', '시청')\n",
            "True\n",
            "['서울역', '남영', '용산', '노량진', '대방', '신길', '영등포', '신도림']\n",
            "None\n"
          ],
          "name": "stdout"
        }
      ]
    },
    {
      "cell_type": "code",
      "metadata": {
        "colab": {
          "base_uri": "https://localhost:8080/"
        },
        "id": "Dg3H0tlbkmM0",
        "outputId": "d843219c-1101-4ea9-c278-48261457d329"
      },
      "source": [
        "separator = '*****' * 10\n",
        "inputMsg = '>> [INPUT] {}'\n",
        "outputMsg = '>> [OUTPUT] {}'\n",
        "errorMsg = '>> [ERROR] {}'\n",
        "\n",
        "def dispSubwayLineInfo():\n",
        "    while True:\n",
        "        try:\n",
        "            line = 'Line' + str(input(inputMsg.format('Please enter a subway line number (1 - 4):')))\n",
        "            print(outputMsg.format(line + ': ' + str(subwayStation[line])))                               \n",
        "        except KeyError:\n",
        "            print(errorMsg.format('Please enter a valid subway line number.'))\n",
        "        else:\n",
        "            return\n",
        "def getStationAndLines(msg):\n",
        "    while True:\n",
        "        station = input(inputMsg.format(msg))\n",
        "\n",
        "        lines = []\n",
        "        for line in subwayStation:\n",
        "            if station in subwayStation[line]:\n",
        "                lines.append(line)\n",
        "\n",
        "        if len(lines) == 0:\n",
        "            print(errorMsg.format('Please enter a valid subway station name.'))\n",
        "        else:\n",
        "            return station, lines\n",
        "\n",
        "def dispSubwayStationInfo():\n",
        "    try:\n",
        "        station, lines = getStationAndLines('Please enter a subway station name:')\n",
        "        print(outputMsg.format(station + ' is in ' + str(lines)))\n",
        "    except ValueError:\n",
        "        print(errorMsg.format('Please enter a valid subway station name.'))\n",
        "    else:\n",
        "        return    \n",
        "\n",
        "def dispPathBetweenStations():\n",
        "    dpt, dptLines = getStationAndLines('Please enter a departure station name:')\n",
        "    dst, dstLines = getStationAndLines('Please enter a destination station name:')\n",
        "\n",
        "    commonLine = tuple(set(dptLines) & set(dstLines))\n",
        "    if len(commonLine) > 0:\n",
        "        print(subwayStation[commonLine[0]].getPath(dpt,dst))\n",
        "        return    \n",
        "\n",
        "    for dptLine in dptLines:\n",
        "        for dstLine in dstLines:\n",
        "            commonStation =subwayStation[dptLine] & subwayStation[dstLine]\n",
        "            if len(commonStation) > 0:\n",
        "                print(subwayStation[dptLine].getPath(dpt,commonStation[0]))\n",
        "                print(outputMsg.format('Transfer from ' + dptLine + ' to ' + dstLine + ' at ' + commonStation[0]))\n",
        "                print(subwayStation[dstLine].getPath(commonStation[0],dst))\n",
        "                return\n",
        "\n",
        "while True:\n",
        "    print(separator)\n",
        "    print('1. Display subway line information (Line 1 ~ 4)')\n",
        "    print('2. Display subway station information')\n",
        "    print('3. Find a path between two subway stations')\n",
        "    print('4. Exit')\n",
        "    print(separator)\n",
        "\n",
        "    option = int(input(inputMsg.format('Please choose one of the options (1 - 4):')))\n",
        "\n",
        "    if option == 1:\n",
        "        print(separator)\n",
        "        print('Subway line information service')\n",
        "        print(separator)\n",
        "        dispSubwayLineInfo()\n",
        "        \n",
        "    elif option == 2:\n",
        "        print(separator)\n",
        "        print('Subway station information service')\n",
        "        print(separator)\n",
        "        dispSubwayStationInfo()\n",
        "\n",
        "    elif option == 3:\n",
        "        print(separator)\n",
        "        print('Subway navigation service')\n",
        "        print(separator)\n",
        "        dispPathBetweenStations()\n",
        "\n",
        "    elif option == 4:\n",
        "        print(separator)\n",
        "        print(outputMsg.format('Bye bye~'))\n",
        "        break\n",
        "\n",
        "    else:\n",
        "        print(errorMsg.format('Please choose a valid option.'))"
      ],
      "execution_count": 39,
      "outputs": [
        {
          "output_type": "stream",
          "text": [
            "**************************************************\n",
            "1. Display subway line information (Line 1 ~ 4)\n",
            "2. Display subway station information\n",
            "3. Find a path between two subway stations\n",
            "4. Exit\n",
            "**************************************************\n",
            ">> [INPUT] Please choose one of the options (1 - 4):1\n",
            "**************************************************\n",
            "Subway line information service\n",
            "**************************************************\n",
            ">> [INPUT] Please enter a subway line number (1 - 4):1\n",
            ">> [OUTPUT] Line1: ['소요산', '동두천', '보산', '동두천중앙', '지행', '덕정', '덕계', '양주', '녹양', '가능', '의정부', '회룡', '망월사', '도봉산', '도봉', '방학', '창동', '녹천', '월계', '광운대', '석계', '신이문', '외대앞', '회기', '청량리', '제기동', '신설동', '동묘앞', '동대문', '종로5가', '종로3가', '종각', '시청', '서울역', '남영', '용산', '노량진', '대방', '신길', '영등포', '신도림', '구로', '구일', '개봉', '오류동', '온수', '역곡', '소사', '부천', '중동', '송내', '부개', '부평', '백운', '동암', '간석', '주안', '도화', '제물포', '도원', '동인천', '인천']\n",
            "**************************************************\n",
            "1. Display subway line information (Line 1 ~ 4)\n",
            "2. Display subway station information\n",
            "3. Find a path between two subway stations\n",
            "4. Exit\n",
            "**************************************************\n",
            ">> [INPUT] Please choose one of the options (1 - 4):2\n",
            "**************************************************\n",
            "Subway station information service\n",
            "**************************************************\n",
            ">> [INPUT] Please enter a subway station name:당고개\n",
            ">> [OUTPUT] 당고개 is in ['Line4']\n",
            "**************************************************\n",
            "1. Display subway line information (Line 1 ~ 4)\n",
            "2. Display subway station information\n",
            "3. Find a path between two subway stations\n",
            "4. Exit\n",
            "**************************************************\n",
            ">> [INPUT] Please choose one of the options (1 - 4):3\n",
            "**************************************************\n",
            "Subway navigation service\n",
            "**************************************************\n",
            ">> [INPUT] Please enter a departure station name:당고개\n",
            ">> [INPUT] Please enter a destination station name:광운대\n",
            "['당고개', '상계', '노원', '창동', '쌍문', '수유', '미아', '미아사거리', '길음', '성신여대입구', '한성대입구', '혜화', '동대문']\n",
            ">> [OUTPUT] Transfer from Line4 to Line1 at 동대문\n",
            "['동대문', '동묘앞', '신설동', '제기동', '청량리', '회기', '외대앞', '신이문', '석계', '광운대']\n",
            "**************************************************\n",
            "1. Display subway line information (Line 1 ~ 4)\n",
            "2. Display subway station information\n",
            "3. Find a path between two subway stations\n",
            "4. Exit\n",
            "**************************************************\n",
            ">> [INPUT] Please choose one of the options (1 - 4):4\n",
            "**************************************************\n",
            ">> [OUTPUT] Bye bye~\n"
          ],
          "name": "stdout"
        }
      ]
    }
  ]
}