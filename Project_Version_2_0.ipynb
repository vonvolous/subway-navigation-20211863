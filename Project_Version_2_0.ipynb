{
  "nbformat": 4,
  "nbformat_minor": 0,
  "metadata": {
    "colab": {
      "name": "Project Version 2.0.ipynb",
      "provenance": [],
      "collapsed_sections": [
        "NUD-hySm_uPc"
      ],
      "toc_visible": true,
      "include_colab_link": true
    },
    "kernelspec": {
      "name": "python3",
      "display_name": "Python 3"
    }
  },
  "cells": [
    {
      "cell_type": "markdown",
      "metadata": {
        "id": "view-in-github",
        "colab_type": "text"
      },
      "source": [
        "<a href=\"https://colab.research.google.com/github/vonvolous/subway-navigation-20211863/blob/main/Project_Version_2_0.ipynb\" target=\"_parent\"><img src=\"https://colab.research.google.com/assets/colab-badge.svg\" alt=\"Open In Colab\"/></a>"
      ]
    },
    {
      "cell_type": "markdown",
      "metadata": {
        "id": "NUD-hySm_uPc"
      },
      "source": [
        "# **Open Source SW and Python Programming Project: Implementation of Subway Navigation**\n",
        "\n",
        "In this project, you will implement a navigation system for Seoul subway stations, especially **step by step**\n",
        "\n",
        "\n"
      ]
    },
    {
      "cell_type": "markdown",
      "metadata": {
        "id": "uUsnepoeAhVl"
      },
      "source": [
        "# 0. Initialization\n",
        "\n",
        "Read subway station information by reading the file **simplified_subway_info.xlsx**\n",
        "*  The excel file contains subway station information of Seoul subway line 1 ~ 4\n",
        "*  When you execute this sourcecode, you MUST upload these files in your Colab runtime environment\n",
        "*   **MUST NOT** change this Initialization code cell"
      ]
    },
    {
      "cell_type": "code",
      "metadata": {
        "id": "qnbOlA6o_mIl"
      },
      "source": [
        "import xlrd\n",
        "\n",
        "# Read data file\n",
        "data = xlrd.open_workbook(\"simplified_subway_info.xlsx\")\n",
        "data = data.sheet_by_name('Sheet1')\n",
        "\n",
        "# Store the loaded book object as a string list in subwayStation variable\n",
        "subwayStation = []\n",
        "for line in range(4) :\n",
        "    cur = [x for x in data.col_values(line) if x]    \n",
        "    subwayStation.append(cur[1:])"
      ],
      "execution_count": 131,
      "outputs": []
    },
    {
      "cell_type": "markdown",
      "metadata": {
        "id": "DBXU61Tn_vKS"
      },
      "source": [
        "# 1. Your implementation\n",
        "Let's start the implementation of a subway naviation system by using the loaded subway station information :)\n",
        "\n",
        "*   You can access the subway station information by referring to **subwayStation** variable (list type)"
      ]
    },
    {
      "cell_type": "code",
      "metadata": {
        "id": "d68VCONN6xGD"
      },
      "source": [
        "keys=['Line1','Line2','Line3','Line4']\n",
        "stations=subwayStation\n",
        "subwayStation={} \n",
        "\n",
        "for line, station in zip(keys,stations):\n",
        "    subwayStation[line]=tuple(station)"
      ],
      "execution_count": 132,
      "outputs": []
    },
    {
      "cell_type": "code",
      "metadata": {
        "id": "xHWQSKegd5Dy"
      },
      "source": [
        "separator = '*****' * 10\n",
        "errorMsg = '>>>> [ERROR] {}'\n",
        "\n",
        "def Whitespace_separator():\n",
        "  print('\\n')\n",
        "  print(separator)\n",
        "\n",
        "def SubwayNavigation_main():\n",
        "  Whitespace_separator()\n",
        "  print('1. Display subway line information (Line 1~4)')\n",
        "  print('2. Display subway station information')\n",
        "  print('3. Find a path between two subway stations')\n",
        "  print('4. Exit')\n",
        "  print(separator)\n",
        "\n",
        "def dispSubwayLineInfo():\n",
        "  Whitespace_separator()\n",
        "  print('Subway line information service')\n",
        "  print(separator)\n",
        "  \n",
        "  while True:\n",
        "    linenum=int(input('>>Please enter a subway line number(1~4):'))\n",
        "    if (linenum>=1) and (linenum<=4):\n",
        "      linenum=str(linenum)\n",
        "      line='Line'+linenum\n",
        "      print(subwayStation[line])\n",
        "      break\n",
        "    else:\n",
        "      print(errorMsg.format('Please enter a valid subway line number.'))\n",
        "\n",
        "def dispSubwayStationInfo():\n",
        "  Whitespace_separator()\n",
        "  print('Subway station information service')\n",
        "  print(separator)\n",
        "  \n",
        "  isValid=False\n",
        "  while True:\n",
        "    subnam=input('>>Please enter a subway station name:')\n",
        "    for i in range(4):\n",
        "      j=str(i+1)\n",
        "      line='Line'+j\n",
        "      if subnam in subwayStation[line]:\n",
        "        if not isValid:\n",
        "          stationInfo = subnam + ' is in '+line\n",
        "          isValid = True\n",
        "        else:\n",
        "          stationInfo += ' and ' + line                \n",
        "    if not isValid:\n",
        "      print(errorMsg.format('Please enter a valid subway station name.'))\n",
        "    else:\n",
        "      print(stationInfo)        \n",
        "      break\n",
        "\n",
        "def findSubwayPath():\n",
        "  Whitespace_separator()\n",
        "  print('Finding a path between two subway stations service')\n",
        "  print(separator)\n",
        "\n",
        "  isTrue=True\n",
        "  while isTrue:\n",
        "    start=input('>>Please enter a subway station name for departure:')     \n",
        "    end=input('>>Please enter a subway station name for arrival:')\n",
        "    for i in range(4):\n",
        "      j=str(i+1)\n",
        "      linenum2='Line'+j\n",
        "      if start in subwayStation[linenum2]:\n",
        "        starting=subwayStation[linenum2].index(start)\n",
        "        tuple1=subwayStation[linenum2]\n",
        "        if end in subwayStation[linenum2]:\n",
        "          ending=subwayStation[linenum2].index(end)\n",
        "          print('경로:',linenum2,' ',tuple1[starting:ending+1] )\n",
        "          isTrue=False\n",
        "        else:\n",
        "          for m in range(4):\n",
        "            n=str(m+1)\n",
        "            linenum3='Line'+n\n",
        "            if end in subwayStation[linenum3]:\n",
        "              ending=subwayStation[linenum3].index(end)\n",
        "              tuple2=subwayStation[linenum3]\n",
        "              for k in range(len(tuple1)):\n",
        "                for t in range(len(tuple2)):\n",
        "                  if tuple1[k]==tuple2[t]:\n",
        "                    if starting<k:\n",
        "                      if ending>t:\n",
        "                        print('환승을 해서 가는 경로:',linenum2,' ',tuple1[starting:k+1],'-->>',linenum3,' ',tuple2[t:ending+1])\n",
        "                        isTrue=False\n",
        "                        break\n",
        "                      else:\n",
        "                        print('환승을 해서 가는 경로:',linenum2,' ',tuple1[starting:k+1],'-->>',linenum3,' ',tuple2[t:],tuple2[:ending+1])\n",
        "                        isTrue=False\n",
        "                        break\n",
        "                    else:\n",
        "                      if ending>t:\n",
        "                        print('환승을 해서 가는 경로:',linenum2,' ',tuple1[starting:],tuple1[:k+1],'-->>',linenum3,' ',tuple2[t:ending+1])\n",
        "                        isTrue=False\n",
        "                        break\n",
        "                      else:\n",
        "                        print('환승을 해서 가는 경로:',linenum2,' ',tuple1[starting:],tuple1[:k+1],'-->>',linenum3,' ',tuple2[t:],tuple2[:ending+1])\n",
        "                        isTrue=False\n",
        "                        break\n",
        "                if not isTrue:\n",
        "                  break  \n",
        "              if not isTrue:\n",
        "                break    \n",
        "      else:\n",
        "        break"
      ],
      "execution_count": 156,
      "outputs": []
    },
    {
      "cell_type": "code",
      "metadata": {
        "colab": {
          "base_uri": "https://localhost:8080/"
        },
        "id": "uJuqJhR0ctgG",
        "outputId": "0350a79c-95dc-4b33-d630-e8a01560f4f1"
      },
      "source": [
        "while True:\n",
        "  SubwayNavigation_main()\n",
        "  userinput=int(input('Please choose one of the options (1~4):'))\n",
        "\n",
        "  if userinput==1:\n",
        "    dispSubwayLineInfo()\n",
        "  elif userinput==2:\n",
        "    dispSubwayStationInfo()\n",
        "  elif userinput==3:\n",
        "    findSubwayPath()\n",
        "  elif userinput==4:\n",
        "    break\n",
        "  else:\n",
        "    print(errorMsg.format('Please choose a valid option.'))\n",
        "    continue\n",
        "print('[Subway Navigation] The End')"
      ],
      "execution_count": 157,
      "outputs": [
        {
          "output_type": "stream",
          "text": [
            "\n",
            "\n",
            "**************************************************\n",
            "1. Display subway line information (Line 1~4)\n",
            "2. Display subway station information\n",
            "3. Find a path between two subway stations\n",
            "4. Exit\n",
            "**************************************************\n",
            "Please choose one of the options (1~4):3\n",
            "\n",
            "\n",
            "**************************************************\n",
            "Finding a path between two subway stations service\n",
            "**************************************************\n",
            ">>Please enter a subway station name for departure:소요산\n",
            ">>Please enter a subway station name for arrival:대림\n",
            "환승을 해서 가는 경로: Line1   ('소요산', '동두천', '보산', '동두천중앙', '지행', '덕정', '덕계', '양주', '녹양', '가능', '의정부', '회룡', '망월사', '도봉산', '도봉', '방학', '창동', '녹천', '월계', '광운대', '석계', '신이문', '외대앞', '회기', '청량리', '제기동', '신설동', '동묘앞', '동대문', '종로5가', '종로3가', '종각', '시청') -->> Line2   ('시청', '충정로', '아현', '이대', '신촌', '홍대입구', '합정', '당산', '영등포구청', '문래') ('신도림', '대림')\n",
            "\n",
            "\n",
            "**************************************************\n",
            "1. Display subway line information (Line 1~4)\n",
            "2. Display subway station information\n",
            "3. Find a path between two subway stations\n",
            "4. Exit\n",
            "**************************************************\n",
            "Please choose one of the options (1~4):4\n",
            "[Subway Navigation] The End\n"
          ],
          "name": "stdout"
        }
      ]
    },
    {
      "cell_type": "code",
      "metadata": {
        "id": "r7UVZZ6nDXpW"
      },
      "source": [
        ""
      ],
      "execution_count": null,
      "outputs": []
    }
  ]
}